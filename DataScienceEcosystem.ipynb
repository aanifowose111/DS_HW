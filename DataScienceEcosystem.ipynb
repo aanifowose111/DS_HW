{
 "cells": [
  {
   "cell_type": "markdown",
   "id": "69755c6c-f386-4627-b099-6856ee753834",
   "metadata": {},
   "source": [
    "# Data Science Tools and Ecosystem"
   ]
  },
  {
   "cell_type": "markdown",
   "id": "ef4b852f-542f-4b11-8df6-a79ef3753761",
   "metadata": {},
   "source": [
    "In this notebook, Data Science Tools and Ecosystem are summarized."
   ]
  },
  {
   "cell_type": "markdown",
   "id": "cf19f1e4-9fb0-414a-b905-15f69ffd4fca",
   "metadata": {},
   "source": [
    "### Some of the popular languages that Data Scientists use are\n",
    "\n",
    "\n",
    "    1. Python\n",
    "    2. R\n",
    "    3. C++\n",
    "    4. Java\n",
    "    5. Scala"
   ]
  },
  {
   "cell_type": "markdown",
   "id": "ecfe9e75-b484-47dd-8a98-c5619d1ba5cb",
   "metadata": {},
   "source": [
    "### Some of the commonly used libraries used by Data Scientists include:\n",
    "\n",
    "    1. Numpy\n",
    "    2. Pandas\n",
    "    3. Sklearn\n",
    "    4. Matplotlib"
   ]
  },
  {
   "cell_type": "markdown",
   "id": "22554ab9-4223-4ea6-879d-a820c43eb1bd",
   "metadata": {},
   "source": [
    "| Data Science Tools |\n",
    "|--------------------|\n",
    "| Jupyter Notebook   |\n",
    "| RStudio            |\n",
    "| Apache Zeppelin    |"
   ]
  },
  {
   "cell_type": "markdown",
   "id": "38bc7c54-3d33-4df7-90ce-2e6acb51ee8f",
   "metadata": {},
   "source": [
    "### Below are a few examples of evaluating arithmetic expressions in Python"
   ]
  },
  {
   "cell_type": "code",
   "execution_count": 7,
   "id": "4696b1eb-8d24-47e5-92af-cc788301943c",
   "metadata": {},
   "outputs": [
    {
     "name": "stdout",
     "output_type": "stream",
     "text": [
      "25\n"
     ]
    }
   ],
   "source": [
    "# Addition\n",
    "a = 2 + 3  \n",
    "\n",
    "# Multiplication\n",
    "b = 5 * 4  \n",
    "\n",
    "# Division\n",
    "x = 10 / 2  \n",
    "\n",
    "# Exponentiation\n",
    "y = 2 ** 3\n",
    "print (a + b)"
   ]
  },
  {
   "cell_type": "code",
   "execution_count": 8,
   "id": "2255298a-dfc0-4db2-8778-cf1851464d71",
   "metadata": {},
   "outputs": [
    {
     "name": "stdout",
     "output_type": "stream",
     "text": [
      "17\n"
     ]
    }
   ],
   "source": [
    "# his a simple arithmetic expression to mutiply then add integers\n",
    "z = (3 * 4) + 5\n",
    "print (z)"
   ]
  },
  {
   "cell_type": "code",
   "execution_count": 12,
   "id": "5eb3b5a6-3951-4da4-8a2e-70546ab7f3a7",
   "metadata": {},
   "outputs": [
    {
     "name": "stdout",
     "output_type": "stream",
     "text": [
      "3.3333333333333335\n"
     ]
    }
   ],
   "source": [
    "# This will convert 200 minutes to hours by diving by 60\n",
    "\n",
    "def get_hour(time_in_minutes):\n",
    "    return time_in_minutes/60\n",
    "print (get_hour(200))"
   ]
  },
  {
   "cell_type": "markdown",
   "id": "b77dcba6-0e06-4105-aa3f-fe2244f97657",
   "metadata": {},
   "source": [
    "### List popular languages for Data Science\n",
    "\n",
    "- Java\n",
    "- Javascript\n",
    "- Julia"
   ]
  },
  {
   "cell_type": "markdown",
   "id": "6cc0581d-6da9-4211-bf9b-8f8e82e1c71e",
   "metadata": {},
   "source": [
    "## Author\n",
    "\n",
    "Abiodun Anifowose"
   ]
  }
 ],
 "metadata": {
  "kernelspec": {
   "display_name": "Python 3 (ipykernel)",
   "language": "python",
   "name": "python3"
  },
  "language_info": {
   "codemirror_mode": {
    "name": "ipython",
    "version": 3
   },
   "file_extension": ".py",
   "mimetype": "text/x-python",
   "name": "python",
   "nbconvert_exporter": "python",
   "pygments_lexer": "ipython3",
   "version": "3.12.8"
  }
 },
 "nbformat": 4,
 "nbformat_minor": 5
}
